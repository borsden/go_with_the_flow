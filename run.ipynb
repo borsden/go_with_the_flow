{
 "cells": [
  {
   "cell_type": "code",
   "execution_count": 2,
   "metadata": {
    "pycharm": {
     "name": "#%%\n"
    }
   },
   "outputs": [],
   "source": [
    "import sys\n",
    "\n",
    "import os\n",
    "os.environ[\"NUMPY_EXPERIMENTAL_ARRAY_FUNCTION\"] = \"1\"\n",
    "import numpy as np\n",
    "import cupy as cp\n",
    "import tqdm as tqdm\n",
    "from numpy.random import randint\n",
    "import pandas as pd\n",
    "\n",
    "import warnings\n",
    "from env import Environment\n",
    "\n",
    "warnings.simplefilter('ignore')\n",
    "warnings.filterwarnings('ignore')\n",
    "pd.set_option('display.max_columns', 500)\n",
    "pd.set_option('display.max_rows', 200)\n",
    "%matplotlib inline"
   ]
  },
  {
   "cell_type": "code",
   "execution_count": 3,
   "metadata": {
    "pycharm": {
     "name": "#%%\n"
    }
   },
   "outputs": [],
   "source": [
    "ENV_SIZE = (300, 300, 1250) # Size of environment\n",
    "TURNS = 2000 # Number of turns\n",
    "AGENT_BIRTHS_PER_TURN = 100 # Number of agents born each turn\n",
    "\n",
    "RATIO_RANDOM_BIRTH = 0.1 # Ratio of agent birth locations (i.e. base of environment vs. random)\n",
    "\n",
    "TRACKED_AGENT_RATIO = 1. # Ratio of agents tracked\n",
    "MOVE_PREFERENCE_MATRIX = np.array([\n",
    "    [\n",
    "        [2, 2, 2],\n",
    "        [1, 1, 1],\n",
    "        [np.nan, np.nan, np.nan],\n",
    "    ],\n",
    "    [\n",
    "        [2, 3, 2],\n",
    "        [1, np.nan, 1],\n",
    "        [np.nan, np.nan, np.nan],\n",
    "    ],\n",
    "    [\n",
    "        [2, 2, 2],\n",
    "        [1, 1, 1],\n",
    "        [np.nan, np.nan, np.nan],\n",
    "    ]\n",
    "]) # The agent decides which space to move to by adding this move preference array to the value array of the surrounding environment.\n",
    "\n",
    "MOVE_PROBABILITY_MATRIX = np.array([\n",
    "    [\n",
    "        [0.075, 0.075, 0.075],\n",
    "        [0.0375, 0.0375, 0.0375],\n",
    "        [0, 0, 0],\n",
    "    ],\n",
    "    [\n",
    "        [0.075, 0.1, 0.075],\n",
    "        [0.0375, 0, 0.0375],\n",
    "        [0, 0, 0],\n",
    "    ],\n",
    "    [\n",
    "        [0.075, 0.075, 0.075],\n",
    "        [0.0375, 0.0375, 0.0375],\n",
    "        [0, 0, 0],\n",
    "    ]\n",
    "]) # 10% of the time the agent moves randomly to an adjacent space. It is the move probability matrix.\n",
    "\n",
    "\n",
    "# We want to have XYZ format for all matrices, so satisfy this condition\n",
    "MOVE_PREFERENCE_MATRIX = np.moveaxis(MOVE_PREFERENCE_MATRIX, (0, 1, 2), (1, 2, 0))\n",
    "MOVE_PROBABILITY_MATRIX = np.moveaxis(MOVE_PROBABILITY_MATRIX, (0, 1, 2), (1, 2, 0))\n",
    "\n",
    "\n",
    "SEED = 1000\n"
   ]
  },
  {
   "cell_type": "code",
   "execution_count": 4,
   "metadata": {
    "pycharm": {
     "name": "#%%\n"
    }
   },
   "outputs": [
    {
     "name": "stdout",
     "output_type": "stream",
     "text": [
      "CPU times: user 3.73 ms, sys: 50.8 ms, total: 54.5 ms\n",
      "Wall time: 54.4 ms\n"
     ]
    }
   ],
   "source": [
    "%%time\n",
    "ENV_NAME = \"vol1\"\n",
    "ENV_ARR = np.load(f\"./envs/{ENV_NAME}_environment.npy\")\n",
    "ACC_ARR = np.load(f\"./envs/{ENV_NAME}_accumulations.npy\")\n"
   ]
  },
  {
   "cell_type": "code",
   "execution_count": 5,
   "metadata": {
    "pycharm": {
     "name": "#%%\n"
    }
   },
   "outputs": [
    {
     "name": "stderr",
     "output_type": "stream",
     "text": [
      " 17%|█▋        | 337/2000 [00:02<00:12, 133.50it/s]\n"
     ]
    },
    {
     "ename": "KeyboardInterrupt",
     "evalue": "",
     "output_type": "error",
     "traceback": [
      "\u001B[0;31m---------------------------------------------------------------------------\u001B[0m",
      "\u001B[0;31mKeyboardInterrupt\u001B[0m                         Traceback (most recent call last)",
      "\u001B[0;32m<timed exec>\u001B[0m in \u001B[0;36m<module>\u001B[0;34m\u001B[0m\n",
      "\u001B[0;32m~/Projects/go_with_the_flow/env.py\u001B[0m in \u001B[0;36mmove\u001B[0;34m(self, move_preference_matrix, move_probability_matrix, ratio_random_move)\u001B[0m\n\u001B[1;32m    278\u001B[0m \u001B[0;34m\u001B[0m\u001B[0m\n\u001B[1;32m    279\u001B[0m         \u001B[0mnormal_flattened_move_candidates\u001B[0m \u001B[0;34m=\u001B[0m \u001B[0mnormal_move_candidates\u001B[0m\u001B[0;34m.\u001B[0m\u001B[0mreshape\u001B[0m\u001B[0;34m(\u001B[0m\u001B[0;34m-\u001B[0m\u001B[0;36m1\u001B[0m\u001B[0;34m,\u001B[0m \u001B[0;36m27\u001B[0m\u001B[0;34m)\u001B[0m\u001B[0;34m\u001B[0m\u001B[0;34m\u001B[0m\u001B[0m\n\u001B[0;32m--> 280\u001B[0;31m         \u001B[0mnormal_shuffled_candidates_idx\u001B[0m \u001B[0;34m=\u001B[0m \u001B[0mcp\u001B[0m\u001B[0;34m.\u001B[0m\u001B[0mrandom\u001B[0m\u001B[0;34m.\u001B[0m\u001B[0mrand\u001B[0m\u001B[0;34m(\u001B[0m\u001B[0;34m*\u001B[0m\u001B[0mnormal_flattened_move_candidates\u001B[0m\u001B[0;34m.\u001B[0m\u001B[0mshape\u001B[0m\u001B[0;34m)\u001B[0m\u001B[0;34m.\u001B[0m\u001B[0margsort\u001B[0m\u001B[0;34m(\u001B[0m\u001B[0maxis\u001B[0m\u001B[0;34m=\u001B[0m\u001B[0;36m1\u001B[0m\u001B[0;34m)\u001B[0m\u001B[0;34m\u001B[0m\u001B[0;34m\u001B[0m\u001B[0m\n\u001B[0m\u001B[1;32m    281\u001B[0m         normal_shuffled_flattened_move_candidates = cp.take_along_axis(\n\u001B[1;32m    282\u001B[0m             \u001B[0mnormal_flattened_move_candidates\u001B[0m\u001B[0;34m,\u001B[0m \u001B[0mnormal_shuffled_candidates_idx\u001B[0m\u001B[0;34m,\u001B[0m \u001B[0maxis\u001B[0m\u001B[0;34m=\u001B[0m\u001B[0;36m1\u001B[0m\u001B[0;34m\u001B[0m\u001B[0;34m\u001B[0m\u001B[0m\n",
      "\u001B[0;31mKeyboardInterrupt\u001B[0m: "
     ]
    }
   ],
   "source": [
    "%%time\n",
    "\n",
    "env = Environment(ENV_ARR, seed=SEED*2)\n",
    "\n",
    "for i in tqdm.tqdm(range(TURNS)):\n",
    "    env.born(AGENT_BIRTHS_PER_TURN, 0)\n",
    "    env.move(MOVE_PREFERENCE_MATRIX, MOVE_PROBABILITY_MATRIX)\n",
    "\n",
    "# 36047648.17484999\n"
   ]
  },
  {
   "cell_type": "code",
   "execution_count": 5,
   "metadata": {
    "pycharm": {
     "name": "#%%\n"
    }
   },
   "outputs": [
    {
     "data": {
      "text/html": [
       "<div>\n",
       "<style scoped>\n",
       "    .dataframe tbody tr th:only-of-type {\n",
       "        vertical-align: middle;\n",
       "    }\n",
       "\n",
       "    .dataframe tbody tr th {\n",
       "        vertical-align: top;\n",
       "    }\n",
       "\n",
       "    .dataframe thead th {\n",
       "        text-align: right;\n",
       "    }\n",
       "</style>\n",
       "<table border=\"1\" class=\"dataframe\">\n",
       "  <thead>\n",
       "    <tr style=\"text-align: right;\">\n",
       "      <th></th>\n",
       "      <th>x</th>\n",
       "      <th>y</th>\n",
       "      <th>z</th>\n",
       "      <th>is_live</th>\n",
       "    </tr>\n",
       "  </thead>\n",
       "  <tbody>\n",
       "    <tr>\n",
       "      <th>0</th>\n",
       "      <td>0</td>\n",
       "      <td>1</td>\n",
       "      <td>801</td>\n",
       "      <td>False</td>\n",
       "    </tr>\n",
       "    <tr>\n",
       "      <th>1</th>\n",
       "      <td>0</td>\n",
       "      <td>3</td>\n",
       "      <td>781</td>\n",
       "      <td>False</td>\n",
       "    </tr>\n",
       "    <tr>\n",
       "      <th>2</th>\n",
       "      <td>0</td>\n",
       "      <td>238</td>\n",
       "      <td>1001</td>\n",
       "      <td>False</td>\n",
       "    </tr>\n",
       "    <tr>\n",
       "      <th>3</th>\n",
       "      <td>298</td>\n",
       "      <td>0</td>\n",
       "      <td>255</td>\n",
       "      <td>True</td>\n",
       "    </tr>\n",
       "    <tr>\n",
       "      <th>4</th>\n",
       "      <td>0</td>\n",
       "      <td>2</td>\n",
       "      <td>780</td>\n",
       "      <td>False</td>\n",
       "    </tr>\n",
       "  </tbody>\n",
       "</table>\n",
       "</div>"
      ],
      "text/plain": [
       "     x    y     z  is_live\n",
       "0    0    1   801    False\n",
       "1    0    3   781    False\n",
       "2    0  238  1001    False\n",
       "3  298    0   255     True\n",
       "4    0    2   780    False"
      ]
     },
     "execution_count": 5,
     "metadata": {},
     "output_type": "execute_result"
    }
   ],
   "source": [
    "\"\"\"Show result in competition format\"\"\"\n",
    "env.pd_result.head()"
   ]
  },
  {
   "cell_type": "code",
   "execution_count": 6,
   "metadata": {
    "pycharm": {
     "name": "#%%\n"
    }
   },
   "outputs": [],
   "source": [
    "\"\"\"\n",
    "Save tracking data. The format for this file is an array with the shape (200000, 2000, 3),\n",
    "which map to these parameters (Agent, Turn, Position).\n",
    "\"\"\"\n",
    "np.save('tracking.npy', env.tracking)"
   ]
  },
  {
   "cell_type": "code",
   "execution_count": null,
   "metadata": {
    "pycharm": {
     "name": "#%%\n"
    }
   },
   "outputs": [],
   "source": []
  }
 ],
 "metadata": {
  "kernelspec": {
   "display_name": "Python 3",
   "language": "python",
   "name": "python3"
  },
  "language_info": {
   "codemirror_mode": {
    "name": "ipython",
    "version": 3
   },
   "file_extension": ".py",
   "mimetype": "text/x-python",
   "name": "python",
   "nbconvert_exporter": "python",
   "pygments_lexer": "ipython3",
   "version": "3.7.8"
  }
 },
 "nbformat": 4,
 "nbformat_minor": 1
}